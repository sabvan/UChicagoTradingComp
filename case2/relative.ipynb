{
 "cells": [
  {
   "cell_type": "code",
   "execution_count": 3,
   "metadata": {},
   "outputs": [
    {
     "data": {
      "text/plain": [
       "'  \\nadjust weights daily based on the most recent movement\\n'"
      ]
     },
     "execution_count": 3,
     "metadata": {},
     "output_type": "execute_result"
    }
   ],
   "source": [
    "import numpy as np\n",
    "import pandas as pd\n",
    "import scipy\n",
    "import matplotlib.pyplot as plt\n",
    "from sklearn.model_selection import train_test_split\n",
    "import os\n",
    "\n",
    "'''  \n",
    "adjust weights daily based on the most recent movement\n",
    "'''"
   ]
  },
  {
   "cell_type": "code",
   "execution_count": 4,
   "metadata": {},
   "outputs": [],
   "source": [
    "# read in data \n",
    "data = pd.read_csv('case2data.csv', index_col = 0)\n",
    "train, test = train_test_split(data, test_size = 0.2, shuffle = False)"
   ]
  },
  {
   "cell_type": "code",
   "execution_count": 13,
   "metadata": {},
   "outputs": [],
   "source": [
    "def calculateWeights():\n",
    "    \n",
    "\n",
    "    \n",
    "    return [1/6, 1/6, 1/6, 1/6, 1/6, 1/6]"
   ]
  },
  {
   "cell_type": "code",
   "execution_count": 14,
   "metadata": {},
   "outputs": [],
   "source": [
    "## given grading data\n",
    "class Allocator():\n",
    "    def __init__(self, train_data):\n",
    "        '''\n",
    "        Anything data you want to store between days must be stored in a class field\n",
    "        '''\n",
    "        self.running_price_paths = train_data.copy()\n",
    "        self.train_data = train_data.copy()\n",
    "        self.running_weights_paths = []\n",
    "        \n",
    "        # Do any preprocessing here -- do not touch running_price_paths, it will store the price path up to that data\n",
    "        \n",
    "        \n",
    "    def allocate_portfolio(self, asset_prices):\n",
    "        '''\n",
    "        asset_prices: np array of length 6, prices of the 6 assets on a particular day\n",
    "        weights: np array of length 6, portfolio allocation for the next day\n",
    "        '''\n",
    "        ### edit: used np.append to make this work\n",
    "        self.running_price_paths = np.append(self.running_price_paths, asset_prices)\n",
    "        # adds on each day -\n",
    "    \n",
    "        ### TODO Implement your code here\n",
    "        weights = calculateWeights()\n",
    "        \n",
    "        return weights\n",
    "    \n",
    "    \n",
    "def grading(train_data, test_data): \n",
    "    '''\n",
    "    Grading Script\n",
    "    '''\n",
    "    weights = np.full(shape=(len(test_data.index),6), fill_value=0.0)\n",
    "    alloc = Allocator(train_data)\n",
    "    for i in range(0,len(test_data)):\n",
    "        weights[i,:] = alloc.allocate_portfolio(test_data.iloc[i,:])\n",
    "        if np.sum(weights < -1) or np.sum(weights > 1):\n",
    "            raise Exception(\"Weights Outside of Bounds\")\n",
    "    \n",
    "    capital = [1]\n",
    "    for i in range(len(test_data) - 1):\n",
    "        shares = capital[-1] * weights[i] / np.array(test_data.iloc[i,:])\n",
    "        balance = capital[-1] - np.dot(shares, np.array(test_data.iloc[i,:]))\n",
    "        net_change = np.dot(shares, np.array(test_data.iloc[i+1,:]))\n",
    "        capital.append(balance + net_change)\n",
    "    capital = np.array(capital)\n",
    "    returns = (capital[1:] - capital[:-1]) / capital[:-1]\n",
    "    \n",
    "    if np.std(returns) != 0:\n",
    "        sharpe = np.mean(returns) / np.std(returns)\n",
    "    else:\n",
    "        sharpe = 0\n",
    "     \n",
    "    return sharpe, capital, weights, alloc\n",
    "    #return sharpe, capital, weights"
   ]
  },
  {
   "cell_type": "code",
   "execution_count": 12,
   "metadata": {},
   "outputs": [
    {
     "ename": "ValueError",
     "evalue": "not enough values to unpack (expected 4, got 3)",
     "output_type": "error",
     "traceback": [
      "\u001b[0;31m---------------------------------------------------------------------------\u001b[0m",
      "\u001b[0;31mValueError\u001b[0m                                Traceback (most recent call last)",
      "Cell \u001b[0;32mIn[12], line 2\u001b[0m\n\u001b[1;32m      1\u001b[0m \u001b[38;5;66;03m# run simulation\u001b[39;00m\n\u001b[0;32m----> 2\u001b[0m sharpe, capital, weights, alloc\u001b[38;5;241m=\u001b[39m grading(train, test)\n\u001b[1;32m      3\u001b[0m \u001b[38;5;28mprint\u001b[39m(sharpe)\n\u001b[1;32m      6\u001b[0m plt\u001b[38;5;241m.\u001b[39mfigure(figsize\u001b[38;5;241m=\u001b[39m(\u001b[38;5;241m10\u001b[39m, \u001b[38;5;241m6\u001b[39m), dpi\u001b[38;5;241m=\u001b[39m\u001b[38;5;241m80\u001b[39m)\n",
      "\u001b[0;31mValueError\u001b[0m: not enough values to unpack (expected 4, got 3)"
     ]
    }
   ],
   "source": [
    "# run simulation\n",
    "sharpe, capital, weights, alloc= grading(train, test)\n",
    "print(sharpe)\n",
    "\n",
    "\n",
    "plt.figure(figsize=(10, 6), dpi=80)\n",
    "plt.title(\"prices\")\n",
    "plt.plot(np.arange(len(alloc.running_price_paths)), alloc.running_price_paths)\n",
    "plt.show()\n",
    "\n",
    "plt.figure(figsize=(10, 6), dpi=80)\n",
    "plt.title(\"Capital\")\n",
    "plt.plot(np.arange(len(test)), capital)\n",
    "plt.show()\n",
    "\n",
    "plt.figure(figsize=(10, 6), dpi=80)\n",
    "plt.title(\"Weights\")\n",
    "plt.plot(np.arange(len(test)), weights)\n",
    "plt.legend(test.columns)\n",
    "plt.show()"
   ]
  }
 ],
 "metadata": {
  "kernelspec": {
   "display_name": "Python 3",
   "language": "python",
   "name": "python3"
  },
  "language_info": {
   "codemirror_mode": {
    "name": "ipython",
    "version": 3
   },
   "file_extension": ".py",
   "mimetype": "text/x-python",
   "name": "python",
   "nbconvert_exporter": "python",
   "pygments_lexer": "ipython3",
   "version": "3.10.7"
  }
 },
 "nbformat": 4,
 "nbformat_minor": 2
}
